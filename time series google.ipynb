{
 "cells": [
  {
   "cell_type": "code",
   "execution_count": 140,
   "id": "c7b54eed",
   "metadata": {},
   "outputs": [],
   "source": [
    "import pandas as pd\n",
    "import numpy as np\n",
    "import warnings\n",
    "warnings.filterwarnings(\"ignore\") \n",
    "import matplotlib.pyplot as plt"
   ]
  },
  {
   "cell_type": "markdown",
   "id": "595839ca",
   "metadata": {},
   "source": [
    "# GOOGLE.excel"
   ]
  },
  {
   "cell_type": "code",
   "execution_count": 141,
   "id": "e631f7a1",
   "metadata": {},
   "outputs": [
    {
     "data": {
      "text/html": [
       "<div>\n",
       "<style scoped>\n",
       "    .dataframe tbody tr th:only-of-type {\n",
       "        vertical-align: middle;\n",
       "    }\n",
       "\n",
       "    .dataframe tbody tr th {\n",
       "        vertical-align: top;\n",
       "    }\n",
       "\n",
       "    .dataframe thead th {\n",
       "        text-align: right;\n",
       "    }\n",
       "</style>\n",
       "<table border=\"1\" class=\"dataframe\">\n",
       "  <thead>\n",
       "    <tr style=\"text-align: right;\">\n",
       "      <th></th>\n",
       "      <th>Date</th>\n",
       "      <th>Open</th>\n",
       "      <th>High</th>\n",
       "      <th>Low</th>\n",
       "      <th>Close</th>\n",
       "      <th>Adj Close</th>\n",
       "      <th>Volume</th>\n",
       "    </tr>\n",
       "  </thead>\n",
       "  <tbody>\n",
       "    <tr>\n",
       "      <th>0</th>\n",
       "      <td>2020-04-27</td>\n",
       "      <td>1292.000000</td>\n",
       "      <td>1294.099976</td>\n",
       "      <td>1265.060059</td>\n",
       "      <td>1270.859985</td>\n",
       "      <td>1270.859985</td>\n",
       "      <td>2209300</td>\n",
       "    </tr>\n",
       "    <tr>\n",
       "      <th>1</th>\n",
       "      <td>2020-04-28</td>\n",
       "      <td>1283.199951</td>\n",
       "      <td>1284.760010</td>\n",
       "      <td>1230.380005</td>\n",
       "      <td>1232.589966</td>\n",
       "      <td>1232.589966</td>\n",
       "      <td>4035000</td>\n",
       "    </tr>\n",
       "    <tr>\n",
       "      <th>2</th>\n",
       "      <td>2020-04-29</td>\n",
       "      <td>1345.000000</td>\n",
       "      <td>1360.150024</td>\n",
       "      <td>1326.729980</td>\n",
       "      <td>1342.180054</td>\n",
       "      <td>1342.180054</td>\n",
       "      <td>5417900</td>\n",
       "    </tr>\n",
       "    <tr>\n",
       "      <th>3</th>\n",
       "      <td>2020-04-30</td>\n",
       "      <td>1331.359985</td>\n",
       "      <td>1350.000000</td>\n",
       "      <td>1321.500000</td>\n",
       "      <td>1346.699951</td>\n",
       "      <td>1346.699951</td>\n",
       "      <td>2792100</td>\n",
       "    </tr>\n",
       "    <tr>\n",
       "      <th>4</th>\n",
       "      <td>2020-05-01</td>\n",
       "      <td>1324.089966</td>\n",
       "      <td>1351.430054</td>\n",
       "      <td>1309.660034</td>\n",
       "      <td>1317.319946</td>\n",
       "      <td>1317.319946</td>\n",
       "      <td>2443600</td>\n",
       "    </tr>\n",
       "    <tr>\n",
       "      <th>...</th>\n",
       "      <td>...</td>\n",
       "      <td>...</td>\n",
       "      <td>...</td>\n",
       "      <td>...</td>\n",
       "      <td>...</td>\n",
       "      <td>...</td>\n",
       "      <td>...</td>\n",
       "    </tr>\n",
       "    <tr>\n",
       "      <th>248</th>\n",
       "      <td>2021-04-21</td>\n",
       "      <td>2272.050049</td>\n",
       "      <td>2280.000000</td>\n",
       "      <td>2244.820068</td>\n",
       "      <td>2278.350098</td>\n",
       "      <td>2278.350098</td>\n",
       "      <td>1160200</td>\n",
       "    </tr>\n",
       "    <tr>\n",
       "      <th>249</th>\n",
       "      <td>2021-04-22</td>\n",
       "      <td>2275.399902</td>\n",
       "      <td>2288.879883</td>\n",
       "      <td>2240.320068</td>\n",
       "      <td>2252.520020</td>\n",
       "      <td>2252.520020</td>\n",
       "      <td>1207300</td>\n",
       "    </tr>\n",
       "    <tr>\n",
       "      <th>250</th>\n",
       "      <td>2021-04-23</td>\n",
       "      <td>2267.000000</td>\n",
       "      <td>2306.120117</td>\n",
       "      <td>2261.250000</td>\n",
       "      <td>2299.929932</td>\n",
       "      <td>2299.929932</td>\n",
       "      <td>1453300</td>\n",
       "    </tr>\n",
       "    <tr>\n",
       "      <th>251</th>\n",
       "      <td>2021-04-26</td>\n",
       "      <td>2304.520020</td>\n",
       "      <td>2324.530029</td>\n",
       "      <td>2297.320068</td>\n",
       "      <td>2309.929932</td>\n",
       "      <td>2309.929932</td>\n",
       "      <td>1595200</td>\n",
       "    </tr>\n",
       "    <tr>\n",
       "      <th>252</th>\n",
       "      <td>2021-04-27</td>\n",
       "      <td>2317.632568</td>\n",
       "      <td>2317.632568</td>\n",
       "      <td>2286.159912</td>\n",
       "      <td>2290.979980</td>\n",
       "      <td>2290.979980</td>\n",
       "      <td>1756799</td>\n",
       "    </tr>\n",
       "  </tbody>\n",
       "</table>\n",
       "<p>253 rows × 7 columns</p>\n",
       "</div>"
      ],
      "text/plain": [
       "          Date         Open         High          Low        Close  \\\n",
       "0   2020-04-27  1292.000000  1294.099976  1265.060059  1270.859985   \n",
       "1   2020-04-28  1283.199951  1284.760010  1230.380005  1232.589966   \n",
       "2   2020-04-29  1345.000000  1360.150024  1326.729980  1342.180054   \n",
       "3   2020-04-30  1331.359985  1350.000000  1321.500000  1346.699951   \n",
       "4   2020-05-01  1324.089966  1351.430054  1309.660034  1317.319946   \n",
       "..         ...          ...          ...          ...          ...   \n",
       "248 2021-04-21  2272.050049  2280.000000  2244.820068  2278.350098   \n",
       "249 2021-04-22  2275.399902  2288.879883  2240.320068  2252.520020   \n",
       "250 2021-04-23  2267.000000  2306.120117  2261.250000  2299.929932   \n",
       "251 2021-04-26  2304.520020  2324.530029  2297.320068  2309.929932   \n",
       "252 2021-04-27  2317.632568  2317.632568  2286.159912  2290.979980   \n",
       "\n",
       "       Adj Close   Volume  \n",
       "0    1270.859985  2209300  \n",
       "1    1232.589966  4035000  \n",
       "2    1342.180054  5417900  \n",
       "3    1346.699951  2792100  \n",
       "4    1317.319946  2443600  \n",
       "..           ...      ...  \n",
       "248  2278.350098  1160200  \n",
       "249  2252.520020  1207300  \n",
       "250  2299.929932  1453300  \n",
       "251  2309.929932  1595200  \n",
       "252  2290.979980  1756799  \n",
       "\n",
       "[253 rows x 7 columns]"
      ]
     },
     "execution_count": 141,
     "metadata": {},
     "output_type": "execute_result"
    }
   ],
   "source": [
    "df=pd.read_excel('GOOGL.xlsx')\n",
    "df"
   ]
  },
  {
   "cell_type": "code",
   "execution_count": 142,
   "id": "2b978a31",
   "metadata": {},
   "outputs": [
    {
     "data": {
      "text/html": [
       "<div>\n",
       "<style scoped>\n",
       "    .dataframe tbody tr th:only-of-type {\n",
       "        vertical-align: middle;\n",
       "    }\n",
       "\n",
       "    .dataframe tbody tr th {\n",
       "        vertical-align: top;\n",
       "    }\n",
       "\n",
       "    .dataframe thead th {\n",
       "        text-align: right;\n",
       "    }\n",
       "</style>\n",
       "<table border=\"1\" class=\"dataframe\">\n",
       "  <thead>\n",
       "    <tr style=\"text-align: right;\">\n",
       "      <th></th>\n",
       "      <th>Date</th>\n",
       "      <th>Close</th>\n",
       "    </tr>\n",
       "  </thead>\n",
       "  <tbody>\n",
       "    <tr>\n",
       "      <th>0</th>\n",
       "      <td>2020-04-27</td>\n",
       "      <td>1270.859985</td>\n",
       "    </tr>\n",
       "    <tr>\n",
       "      <th>1</th>\n",
       "      <td>2020-04-28</td>\n",
       "      <td>1232.589966</td>\n",
       "    </tr>\n",
       "    <tr>\n",
       "      <th>2</th>\n",
       "      <td>2020-04-29</td>\n",
       "      <td>1342.180054</td>\n",
       "    </tr>\n",
       "    <tr>\n",
       "      <th>3</th>\n",
       "      <td>2020-04-30</td>\n",
       "      <td>1346.699951</td>\n",
       "    </tr>\n",
       "    <tr>\n",
       "      <th>4</th>\n",
       "      <td>2020-05-01</td>\n",
       "      <td>1317.319946</td>\n",
       "    </tr>\n",
       "    <tr>\n",
       "      <th>...</th>\n",
       "      <td>...</td>\n",
       "      <td>...</td>\n",
       "    </tr>\n",
       "    <tr>\n",
       "      <th>248</th>\n",
       "      <td>2021-04-21</td>\n",
       "      <td>2278.350098</td>\n",
       "    </tr>\n",
       "    <tr>\n",
       "      <th>249</th>\n",
       "      <td>2021-04-22</td>\n",
       "      <td>2252.520020</td>\n",
       "    </tr>\n",
       "    <tr>\n",
       "      <th>250</th>\n",
       "      <td>2021-04-23</td>\n",
       "      <td>2299.929932</td>\n",
       "    </tr>\n",
       "    <tr>\n",
       "      <th>251</th>\n",
       "      <td>2021-04-26</td>\n",
       "      <td>2309.929932</td>\n",
       "    </tr>\n",
       "    <tr>\n",
       "      <th>252</th>\n",
       "      <td>2021-04-27</td>\n",
       "      <td>2290.979980</td>\n",
       "    </tr>\n",
       "  </tbody>\n",
       "</table>\n",
       "<p>253 rows × 2 columns</p>\n",
       "</div>"
      ],
      "text/plain": [
       "          Date        Close\n",
       "0   2020-04-27  1270.859985\n",
       "1   2020-04-28  1232.589966\n",
       "2   2020-04-29  1342.180054\n",
       "3   2020-04-30  1346.699951\n",
       "4   2020-05-01  1317.319946\n",
       "..         ...          ...\n",
       "248 2021-04-21  2278.350098\n",
       "249 2021-04-22  2252.520020\n",
       "250 2021-04-23  2299.929932\n",
       "251 2021-04-26  2309.929932\n",
       "252 2021-04-27  2290.979980\n",
       "\n",
       "[253 rows x 2 columns]"
      ]
     },
     "execution_count": 142,
     "metadata": {},
     "output_type": "execute_result"
    }
   ],
   "source": [
    "df1=df[['Date','Close']]\n",
    "df1"
   ]
  },
  {
   "cell_type": "code",
   "execution_count": 146,
   "id": "a4b430cb",
   "metadata": {},
   "outputs": [
    {
     "data": {
      "image/png": "[encoded data removed]",
      "text/plain": [
       "<Figure size 432x288 with 1 Axes>"
      ]
     },
     "metadata": {
      "needs_background": "light"
     },
     "output_type": "display_data"
    }
   ],
   "source": [
    "fig, ax = plt.subplots()\n",
    "ax.plot(df1['Close'])\n",
    "ax.set_xlabel('Timesteps')\n",
    "ax.set_ylabel('Value')\n",
    "plt.tight_layout()"
   ]
  },
  {
   "cell_type": "markdown",
   "id": "0ee9b1c3",
   "metadata": {},
   "source": [
    "# Lets Check for stationary behaviour of data"
   ]
  },
  {
   "cell_type": "code",
   "execution_count": 147,
   "id": "075cbaf2",
   "metadata": {},
   "outputs": [],
   "source": [
    "from statsmodels.tsa.stattools import adfuller\n",
    "from statsmodels.graphics.tsaplots import plot_acf"
   ]
  },
  {
   "cell_type": "code",
   "execution_count": 149,
   "id": "ebf866fc",
   "metadata": {},
   "outputs": [
    {
     "name": "stdout",
     "output_type": "stream",
     "text": [
      "ADF Statistic: 0.16025048664771313\n",
      "p-value: 0.9699419435913057\n"
     ]
    }
   ],
   "source": [
    "ADF_result = adfuller(df1['Close'])\n",
    "print(f'ADF Statistic: {ADF_result[0]}')\n",
    "print(f'p-value: {ADF_result[1]}')"
   ]
  },
  {
   "cell_type": "markdown",
   "id": "188e26df",
   "metadata": {},
   "source": [
    "# since adf statistic is less positive and p value is greater than 0.05 the data is non-stationary"
   ]
  },
  {
   "cell_type": "markdown",
   "id": "7d6c4206",
   "metadata": {},
   "source": [
    "# Lets CHeck for Random Walk"
   ]
  },
  {
   "cell_type": "code",
   "execution_count": 151,
   "id": "709df117",
   "metadata": {},
   "outputs": [
    {
     "data": {
      "image/png": "[encoded data removed]",
      "text/plain": [
       "<Figure size 432x288 with 1 Axes>"
      ]
     },
     "execution_count": 151,
     "metadata": {},
     "output_type": "execute_result"
    },
    {
     "data": {
      "image/png": "[encoded data removed]",
      "text/plain": [
       "<Figure size 432x288 with 1 Axes>"
      ]
     },
     "metadata": {
      "needs_background": "light"
     },
     "output_type": "display_data"
    }
   ],
   "source": [
    "plot_acf(df1['Close'], lags=20)"
   ]
  },
  {
   "cell_type": "markdown",
   "id": "44face49",
   "metadata": {},
   "source": [
    "# since the points are outside the shaded region we conclude that autocorrelation is significant hence its not a RANDOM WALk"
   ]
  },
  {
   "cell_type": "code",
   "execution_count": null,
   "id": "6ef9add3",
   "metadata": {},
   "outputs": [],
   "source": []
  },
  {
   "cell_type": "markdown",
   "id": "4b31b226",
   "metadata": {},
   "source": [
    "# Historic Mean"
   ]
  },
  {
   "cell_type": "code",
   "execution_count": 157,
   "id": "3d156fd5",
   "metadata": {},
   "outputs": [],
   "source": [
    "x_train=df1['Close'].iloc[:248]\n",
    "x_test=df1['Close'].iloc[248:]"
   ]
  },
  {
   "cell_type": "code",
   "execution_count": 174,
   "id": "5ee3926f",
   "metadata": {},
   "outputs": [
    {
     "data": {
      "text/html": [
       "<div>\n",
       "<style scoped>\n",
       "    .dataframe tbody tr th:only-of-type {\n",
       "        vertical-align: middle;\n",
       "    }\n",
       "\n",
       "    .dataframe tbody tr th {\n",
       "        vertical-align: top;\n",
       "    }\n",
       "\n",
       "    .dataframe thead th {\n",
       "        text-align: right;\n",
       "    }\n",
       "</style>\n",
       "<table border=\"1\" class=\"dataframe\">\n",
       "  <thead>\n",
       "    <tr style=\"text-align: right;\">\n",
       "      <th></th>\n",
       "      <th>Date</th>\n",
       "      <th>Close</th>\n",
       "      <th>his_mean</th>\n",
       "    </tr>\n",
       "  </thead>\n",
       "  <tbody>\n",
       "    <tr>\n",
       "      <th>248</th>\n",
       "      <td>2021-04-21</td>\n",
       "      <td>2278.350098</td>\n",
       "      <td>1689.993184</td>\n",
       "    </tr>\n",
       "    <tr>\n",
       "      <th>249</th>\n",
       "      <td>2021-04-22</td>\n",
       "      <td>2252.520020</td>\n",
       "      <td>1689.993184</td>\n",
       "    </tr>\n",
       "    <tr>\n",
       "      <th>250</th>\n",
       "      <td>2021-04-23</td>\n",
       "      <td>2299.929932</td>\n",
       "      <td>1689.993184</td>\n",
       "    </tr>\n",
       "    <tr>\n",
       "      <th>251</th>\n",
       "      <td>2021-04-26</td>\n",
       "      <td>2309.929932</td>\n",
       "      <td>1689.993184</td>\n",
       "    </tr>\n",
       "    <tr>\n",
       "      <th>252</th>\n",
       "      <td>2021-04-27</td>\n",
       "      <td>2290.979980</td>\n",
       "      <td>1689.993184</td>\n",
       "    </tr>\n",
       "  </tbody>\n",
       "</table>\n",
       "</div>"
      ],
      "text/plain": [
       "          Date        Close     his_mean\n",
       "248 2021-04-21  2278.350098  1689.993184\n",
       "249 2021-04-22  2252.520020  1689.993184\n",
       "250 2021-04-23  2299.929932  1689.993184\n",
       "251 2021-04-26  2309.929932  1689.993184\n",
       "252 2021-04-27  2290.979980  1689.993184"
      ]
     },
     "execution_count": 174,
     "metadata": {},
     "output_type": "execute_result"
    }
   ],
   "source": [
    "new_df=df1[248:]\n",
    "new_df['his_mean']=x_train.mean()\n",
    "new_df"
   ]
  },
  {
   "cell_type": "code",
   "execution_count": 175,
   "id": "e9680510",
   "metadata": {},
   "outputs": [
    {
     "name": "stdout",
     "output_type": "stream",
     "text": [
      "MAPE = 26.08\n",
      "MSE = 35602596.7\n",
      "RMSE = 59667.91\n"
     ]
    }
   ],
   "source": [
    "from sklearn.metrics import mean_absolute_percentage_error,mean_squared_error\n",
    "y_train=new_df['Close']\n",
    "y_test=new_df['his_mean']\n",
    "print('MAPE =',round(100*mean_absolute_percentage_error(y_train, y_test),2))\n",
    "print('MSE =',round(100*mean_squared_error(y_train, y_test),2))\n",
    "print('RMSE =',round(100*(mean_squared_error(y_train, y_test,squared=False)),2))"
   ]
  },
  {
   "cell_type": "code",
   "execution_count": null,
   "id": "11d54b2d",
   "metadata": {},
   "outputs": [],
   "source": []
  },
  {
   "cell_type": "markdown",
   "id": "86090682",
   "metadata": {},
   "source": [
    "# Last Value"
   ]
  },
  {
   "cell_type": "code",
   "execution_count": 176,
   "id": "60621c65",
   "metadata": {},
   "outputs": [
    {
     "data": {
      "text/plain": [
       "2279.01001"
      ]
     },
     "execution_count": 176,
     "metadata": {},
     "output_type": "execute_result"
    }
   ],
   "source": [
    "x_train=df1['Close'][:248]\n",
    "a=x_train[-1:].iloc[0]\n",
    "a"
   ]
  },
  {
   "cell_type": "code",
   "execution_count": 177,
   "id": "466226c9",
   "metadata": {},
   "outputs": [
    {
     "data": {
      "text/html": [
       "<div>\n",
       "<style scoped>\n",
       "    .dataframe tbody tr th:only-of-type {\n",
       "        vertical-align: middle;\n",
       "    }\n",
       "\n",
       "    .dataframe tbody tr th {\n",
       "        vertical-align: top;\n",
       "    }\n",
       "\n",
       "    .dataframe thead th {\n",
       "        text-align: right;\n",
       "    }\n",
       "</style>\n",
       "<table border=\"1\" class=\"dataframe\">\n",
       "  <thead>\n",
       "    <tr style=\"text-align: right;\">\n",
       "      <th></th>\n",
       "      <th>Date</th>\n",
       "      <th>Close</th>\n",
       "      <th>Last_Value</th>\n",
       "    </tr>\n",
       "  </thead>\n",
       "  <tbody>\n",
       "    <tr>\n",
       "      <th>248</th>\n",
       "      <td>2021-04-21</td>\n",
       "      <td>2278.350098</td>\n",
       "      <td>2279.01001</td>\n",
       "    </tr>\n",
       "    <tr>\n",
       "      <th>249</th>\n",
       "      <td>2021-04-22</td>\n",
       "      <td>2252.520020</td>\n",
       "      <td>2279.01001</td>\n",
       "    </tr>\n",
       "    <tr>\n",
       "      <th>250</th>\n",
       "      <td>2021-04-23</td>\n",
       "      <td>2299.929932</td>\n",
       "      <td>2279.01001</td>\n",
       "    </tr>\n",
       "    <tr>\n",
       "      <th>251</th>\n",
       "      <td>2021-04-26</td>\n",
       "      <td>2309.929932</td>\n",
       "      <td>2279.01001</td>\n",
       "    </tr>\n",
       "    <tr>\n",
       "      <th>252</th>\n",
       "      <td>2021-04-27</td>\n",
       "      <td>2290.979980</td>\n",
       "      <td>2279.01001</td>\n",
       "    </tr>\n",
       "  </tbody>\n",
       "</table>\n",
       "</div>"
      ],
      "text/plain": [
       "          Date        Close  Last_Value\n",
       "248 2021-04-21  2278.350098  2279.01001\n",
       "249 2021-04-22  2252.520020  2279.01001\n",
       "250 2021-04-23  2299.929932  2279.01001\n",
       "251 2021-04-26  2309.929932  2279.01001\n",
       "252 2021-04-27  2290.979980  2279.01001"
      ]
     },
     "execution_count": 177,
     "metadata": {},
     "output_type": "execute_result"
    }
   ],
   "source": [
    "last_df=df1[248:]\n",
    "last_df['Last_Value']=a\n",
    "last_df\n"
   ]
  },
  {
   "cell_type": "code",
   "execution_count": 178,
   "id": "be84fc6b",
   "metadata": {},
   "outputs": [
    {
     "name": "stdout",
     "output_type": "stream",
     "text": [
      "MAPE = 0.8\n",
      "MSE = 44782.4\n",
      "RMSE = 2116.19\n"
     ]
    }
   ],
   "source": [
    "from sklearn.metrics import mean_absolute_percentage_error,mean_squared_error\n",
    "y_train=last_df['Close']\n",
    "y_test=last_df['Last_Value']\n",
    "print('MAPE =',round(100*mean_absolute_percentage_error(y_train, y_test),2))\n",
    "print('MSE =',round(100*mean_squared_error(y_train, y_test),2))\n",
    "print('RMSE =',round(100*(mean_squared_error(y_train, y_test,squared=False)),2))"
   ]
  },
  {
   "cell_type": "code",
   "execution_count": null,
   "id": "491f8e30",
   "metadata": {},
   "outputs": [],
   "source": []
  },
  {
   "cell_type": "markdown",
   "id": "6170a1c3",
   "metadata": {},
   "source": [
    "# Last Value with next time stamp"
   ]
  },
  {
   "cell_type": "code",
   "execution_count": 179,
   "id": "8352e430",
   "metadata": {},
   "outputs": [
    {
     "data": {
      "text/plain": [
       "2279.01001"
      ]
     },
     "execution_count": 179,
     "metadata": {},
     "output_type": "execute_result"
    }
   ],
   "source": [
    "x_train=df1['Close'][:248]\n",
    "a=x_train[-1:].iloc[0]\n",
    "a"
   ]
  },
  {
   "cell_type": "code",
   "execution_count": 180,
   "id": "1b507458",
   "metadata": {},
   "outputs": [
    {
     "data": {
      "text/html": [
       "<div>\n",
       "<style scoped>\n",
       "    .dataframe tbody tr th:only-of-type {\n",
       "        vertical-align: middle;\n",
       "    }\n",
       "\n",
       "    .dataframe tbody tr th {\n",
       "        vertical-align: top;\n",
       "    }\n",
       "\n",
       "    .dataframe thead th {\n",
       "        text-align: right;\n",
       "    }\n",
       "</style>\n",
       "<table border=\"1\" class=\"dataframe\">\n",
       "  <thead>\n",
       "    <tr style=\"text-align: right;\">\n",
       "      <th></th>\n",
       "      <th>Date</th>\n",
       "      <th>Close</th>\n",
       "    </tr>\n",
       "  </thead>\n",
       "  <tbody>\n",
       "    <tr>\n",
       "      <th>248</th>\n",
       "      <td>2021-04-21</td>\n",
       "      <td>2278.350098</td>\n",
       "    </tr>\n",
       "    <tr>\n",
       "      <th>249</th>\n",
       "      <td>2021-04-22</td>\n",
       "      <td>2252.520020</td>\n",
       "    </tr>\n",
       "    <tr>\n",
       "      <th>250</th>\n",
       "      <td>2021-04-23</td>\n",
       "      <td>2299.929932</td>\n",
       "    </tr>\n",
       "    <tr>\n",
       "      <th>251</th>\n",
       "      <td>2021-04-26</td>\n",
       "      <td>2309.929932</td>\n",
       "    </tr>\n",
       "    <tr>\n",
       "      <th>252</th>\n",
       "      <td>2021-04-27</td>\n",
       "      <td>2290.979980</td>\n",
       "    </tr>\n",
       "  </tbody>\n",
       "</table>\n",
       "</div>"
      ],
      "text/plain": [
       "          Date        Close\n",
       "248 2021-04-21  2278.350098\n",
       "249 2021-04-22  2252.520020\n",
       "250 2021-04-23  2299.929932\n",
       "251 2021-04-26  2309.929932\n",
       "252 2021-04-27  2290.979980"
      ]
     },
     "execution_count": 180,
     "metadata": {},
     "output_type": "execute_result"
    }
   ],
   "source": [
    "next_ts=df1[248:]\n",
    "next_ts\n"
   ]
  },
  {
   "cell_type": "code",
   "execution_count": 181,
   "id": "207feea3",
   "metadata": {},
   "outputs": [],
   "source": [
    "def lagging_column(next_ts, Close, lag_periods=1):\n",
    "    next_ts['next_value'] = next_ts['Close'].shift(lag_periods)\n",
    "    return next_ts"
   ]
  },
  {
   "cell_type": "code",
   "execution_count": 182,
   "id": "15818b24",
   "metadata": {},
   "outputs": [],
   "source": [
    "next_ts= lagging_column(next_ts, 'Close', lag_periods=1)"
   ]
  },
  {
   "cell_type": "code",
   "execution_count": 183,
   "id": "0c8e4363",
   "metadata": {},
   "outputs": [
    {
     "data": {
      "text/html": [
       "<div>\n",
       "<style scoped>\n",
       "    .dataframe tbody tr th:only-of-type {\n",
       "        vertical-align: middle;\n",
       "    }\n",
       "\n",
       "    .dataframe tbody tr th {\n",
       "        vertical-align: top;\n",
       "    }\n",
       "\n",
       "    .dataframe thead th {\n",
       "        text-align: right;\n",
       "    }\n",
       "</style>\n",
       "<table border=\"1\" class=\"dataframe\">\n",
       "  <thead>\n",
       "    <tr style=\"text-align: right;\">\n",
       "      <th></th>\n",
       "      <th>Date</th>\n",
       "      <th>Close</th>\n",
       "      <th>next_value</th>\n",
       "    </tr>\n",
       "  </thead>\n",
       "  <tbody>\n",
       "    <tr>\n",
       "      <th>248</th>\n",
       "      <td>2021-04-21</td>\n",
       "      <td>2278.350098</td>\n",
       "      <td>2279.010010</td>\n",
       "    </tr>\n",
       "    <tr>\n",
       "      <th>249</th>\n",
       "      <td>2021-04-22</td>\n",
       "      <td>2252.520020</td>\n",
       "      <td>2278.350098</td>\n",
       "    </tr>\n",
       "    <tr>\n",
       "      <th>250</th>\n",
       "      <td>2021-04-23</td>\n",
       "      <td>2299.929932</td>\n",
       "      <td>2252.520020</td>\n",
       "    </tr>\n",
       "    <tr>\n",
       "      <th>251</th>\n",
       "      <td>2021-04-26</td>\n",
       "      <td>2309.929932</td>\n",
       "      <td>2299.929932</td>\n",
       "    </tr>\n",
       "    <tr>\n",
       "      <th>252</th>\n",
       "      <td>2021-04-27</td>\n",
       "      <td>2290.979980</td>\n",
       "      <td>2309.929932</td>\n",
       "    </tr>\n",
       "  </tbody>\n",
       "</table>\n",
       "</div>"
      ],
      "text/plain": [
       "          Date        Close   next_value\n",
       "248 2021-04-21  2278.350098  2279.010010\n",
       "249 2021-04-22  2252.520020  2278.350098\n",
       "250 2021-04-23  2299.929932  2252.520020\n",
       "251 2021-04-26  2309.929932  2299.929932\n",
       "252 2021-04-27  2290.979980  2309.929932"
      ]
     },
     "execution_count": 183,
     "metadata": {},
     "output_type": "execute_result"
    }
   ],
   "source": [
    "next_ts['next_value']=next_ts['next_value'].fillna(a)\n",
    "next_ts"
   ]
  },
  {
   "cell_type": "code",
   "execution_count": 184,
   "id": "9aba848e",
   "metadata": {},
   "outputs": [
    {
     "name": "stdout",
     "output_type": "stream",
     "text": [
      "MAPE = 0.9\n",
      "MSE = 67488.58\n",
      "RMSE = 2597.86\n"
     ]
    }
   ],
   "source": [
    "from sklearn.metrics import mean_absolute_percentage_error,mean_squared_error\n",
    "y_train=next_ts['Close']\n",
    "y_test=next_ts['next_value']\n",
    "print('MAPE =',round(100*mean_absolute_percentage_error(y_train, y_test),2))\n",
    "print('MSE =',round(100*mean_squared_error(y_train, y_test),2))\n",
    "print('RMSE =',round(100*(mean_squared_error(y_train, y_test,squared=False)),2))"
   ]
  },
  {
   "cell_type": "code",
   "execution_count": null,
   "id": "5e0d146f",
   "metadata": {},
   "outputs": [],
   "source": []
  },
  {
   "cell_type": "markdown",
   "id": "8a38cfc2",
   "metadata": {},
   "source": [
    "# Last One Month Mean"
   ]
  },
  {
   "cell_type": "code",
   "execution_count": 185,
   "id": "a6f0735c",
   "metadata": {},
   "outputs": [
    {
     "data": {
      "text/plain": [
       "2133.6106486"
      ]
     },
     "execution_count": 185,
     "metadata": {},
     "output_type": "execute_result"
    }
   ],
   "source": [
    "x_train=df1['Close'][:248]\n",
    "a=x_train[218:].mean()\n",
    "a"
   ]
  },
  {
   "cell_type": "code",
   "execution_count": 186,
   "id": "ce31b3f8",
   "metadata": {},
   "outputs": [
    {
     "data": {
      "text/html": [
       "<div>\n",
       "<style scoped>\n",
       "    .dataframe tbody tr th:only-of-type {\n",
       "        vertical-align: middle;\n",
       "    }\n",
       "\n",
       "    .dataframe tbody tr th {\n",
       "        vertical-align: top;\n",
       "    }\n",
       "\n",
       "    .dataframe thead th {\n",
       "        text-align: right;\n",
       "    }\n",
       "</style>\n",
       "<table border=\"1\" class=\"dataframe\">\n",
       "  <thead>\n",
       "    <tr style=\"text-align: right;\">\n",
       "      <th></th>\n",
       "      <th>Date</th>\n",
       "      <th>Close</th>\n",
       "      <th>Month_Mean</th>\n",
       "    </tr>\n",
       "  </thead>\n",
       "  <tbody>\n",
       "    <tr>\n",
       "      <th>248</th>\n",
       "      <td>2021-04-21</td>\n",
       "      <td>2278.350098</td>\n",
       "      <td>2133.610649</td>\n",
       "    </tr>\n",
       "    <tr>\n",
       "      <th>249</th>\n",
       "      <td>2021-04-22</td>\n",
       "      <td>2252.520020</td>\n",
       "      <td>2133.610649</td>\n",
       "    </tr>\n",
       "    <tr>\n",
       "      <th>250</th>\n",
       "      <td>2021-04-23</td>\n",
       "      <td>2299.929932</td>\n",
       "      <td>2133.610649</td>\n",
       "    </tr>\n",
       "    <tr>\n",
       "      <th>251</th>\n",
       "      <td>2021-04-26</td>\n",
       "      <td>2309.929932</td>\n",
       "      <td>2133.610649</td>\n",
       "    </tr>\n",
       "    <tr>\n",
       "      <th>252</th>\n",
       "      <td>2021-04-27</td>\n",
       "      <td>2290.979980</td>\n",
       "      <td>2133.610649</td>\n",
       "    </tr>\n",
       "  </tbody>\n",
       "</table>\n",
       "</div>"
      ],
      "text/plain": [
       "          Date        Close   Month_Mean\n",
       "248 2021-04-21  2278.350098  2133.610649\n",
       "249 2021-04-22  2252.520020  2133.610649\n",
       "250 2021-04-23  2299.929932  2133.610649\n",
       "251 2021-04-26  2309.929932  2133.610649\n",
       "252 2021-04-27  2290.979980  2133.610649"
      ]
     },
     "execution_count": 186,
     "metadata": {},
     "output_type": "execute_result"
    }
   ],
   "source": [
    "m_df=df1[248:]\n",
    "m_df['Month_Mean']=a\n",
    "m_df"
   ]
  },
  {
   "cell_type": "code",
   "execution_count": 187,
   "id": "68e43871",
   "metadata": {},
   "outputs": [
    {
     "name": "stdout",
     "output_type": "stream",
     "text": [
      "MAPE = 6.67\n",
      "MSE = 2372092.94\n",
      "RMSE = 15401.6\n"
     ]
    }
   ],
   "source": [
    "from sklearn.metrics import mean_absolute_percentage_error,mean_squared_error\n",
    "y_train=m_df['Close']\n",
    "y_test=m_df['Month_Mean']\n",
    "print('MAPE =',round(100*mean_absolute_percentage_error(y_train, y_test),2))\n",
    "print('MSE =',round(100*mean_squared_error(y_train, y_test),2))\n",
    "print('RMSE =',round(100*(mean_squared_error(y_train, y_test,squared=False)),2))"
   ]
  },
  {
   "cell_type": "code",
   "execution_count": null,
   "id": "61712898",
   "metadata": {},
   "outputs": [],
   "source": []
  },
  {
   "cell_type": "markdown",
   "id": "e77a2228",
   "metadata": {},
   "source": [
    "# forecast plotting"
   ]
  },
  {
   "cell_type": "code",
   "execution_count": 188,
   "id": "e814aa4d",
   "metadata": {},
   "outputs": [
    {
     "data": {
      "image/png": "[encoded data removed]",
      "text/plain": [
       "<Figure size 1080x432 with 1 Axes>"
      ]
     },
     "metadata": {
      "needs_background": "light"
     },
     "output_type": "display_data"
    }
   ],
   "source": [
    "plt.figure(figsize=(15, 6)) \n",
    "plt.plot(new_df['Close'], label='Actual')\n",
    "plt.plot(new_df['his_mean'], label='Historical Mean')\n",
    "plt.plot(last_df['Last_Value'], label='Last Value ')\n",
    "plt.plot(m_df['Month_Mean'], label='Last Month Mean')\n",
    "plt.plot(next_ts['next_value'], label='next_timestamp')\n",
    "plt.xlabel('Index')\n",
    "plt.ylabel('Value')\n",
    "plt.legend()\n",
    "plt.show()"
   ]
  },
  {
   "cell_type": "code",
   "execution_count": null,
   "id": "098ed296",
   "metadata": {},
   "outputs": [],
   "source": []
  },
  {
   "cell_type": "code",
   "execution_count": null,
   "id": "45883202",
   "metadata": {},
   "outputs": [],
   "source": []
  },
  {
   "cell_type": "code",
   "execution_count": null,
   "id": "5baf89b7",
   "metadata": {},
   "outputs": [],
   "source": []
  },
  {
   "cell_type": "code",
   "execution_count": null,
   "id": "985e5b76",
   "metadata": {},
   "outputs": [],
   "source": []
  },
  {
   "cell_type": "code",
   "execution_count": null,
   "id": "eb3b2567",
   "metadata": {},
   "outputs": [],
   "source": []
  },
  {
   "cell_type": "code",
   "execution_count": null,
   "id": "70b23bcf",
   "metadata": {},
   "outputs": [],
   "source": []
  },
  {
   "cell_type": "code",
   "execution_count": null,
   "id": "6fd44452",
   "metadata": {},
   "outputs": [],
   "source": []
  },
  {
   "cell_type": "code",
   "execution_count": null,
   "id": "7887402e",
   "metadata": {},
   "outputs": [],
   "source": []
  },
  {
   "cell_type": "code",
   "execution_count": null,
   "id": "c9d644d3",
   "metadata": {},
   "outputs": [],
   "source": []
  },
  {
   "cell_type": "code",
   "execution_count": null,
   "id": "1e465d2f",
   "metadata": {},
   "outputs": [],
   "source": []
  },
  {
   "cell_type": "code",
   "execution_count": null,
   "id": "49e8e809",
   "metadata": {},
   "outputs": [],
   "source": []
  },
  {
   "cell_type": "code",
   "execution_count": null,
   "id": "2f003b78",
   "metadata": {},
   "outputs": [],
   "source": []
  },
  {
   "cell_type": "code",
   "execution_count": null,
   "id": "f9a57ef8",
   "metadata": {},
   "outputs": [],
   "source": []
  },
  {
   "cell_type": "code",
   "execution_count": null,
   "id": "f7d08586",
   "metadata": {},
   "outputs": [],
   "source": []
  },
  {
   "cell_type": "code",
   "execution_count": null,
   "id": "06852546",
   "metadata": {},
   "outputs": [],
   "source": []
  },
  {
   "cell_type": "code",
   "execution_count": null,
   "id": "5f7379b3",
   "metadata": {},
   "outputs": [],
   "source": []
  },
  {
   "cell_type": "code",
   "execution_count": null,
   "id": "52c19be8",
   "metadata": {},
   "outputs": [],
   "source": []
  },
  {
   "cell_type": "code",
   "execution_count": null,
   "id": "3815781e",
   "metadata": {},
   "outputs": [],
   "source": []
  }
 ],
 "metadata": {
  "kernelspec": {
   "display_name": "Python 3 (ipykernel)",
   "language": "python",
   "name": "python3"
  },
  "language_info": {
   "codemirror_mode": {
    "name": "ipython",
    "version": 3
   },
   "file_extension": ".py",
   "mimetype": "text/x-python",
   "name": "python",
   "nbconvert_exporter": "python",
   "pygments_lexer": "ipython3",
   "version": "3.9.12"
  }
 },
 "nbformat": 4,
 "nbformat_minor": 5
}
